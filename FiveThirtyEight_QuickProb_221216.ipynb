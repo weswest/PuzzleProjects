{
  "nbformat": 4,
  "nbformat_minor": 0,
  "metadata": {
    "colab": {
      "provenance": [],
      "authorship_tag": "ABX9TyMVVzqXTsHdPqM4cWl1bAZH",
      "include_colab_link": true
    },
    "kernelspec": {
      "name": "python3",
      "display_name": "Python 3"
    },
    "language_info": {
      "name": "python"
    }
  },
  "cells": [
    {
      "cell_type": "markdown",
      "metadata": {
        "id": "view-in-github",
        "colab_type": "text"
      },
      "source": [
        "<a href=\"https://colab.research.google.com/github/weswest/PuzzleProjects/blob/main/FiveThirtyEight_QuickProb_221216.ipynb\" target=\"_parent\"><img src=\"https://colab.research.google.com/assets/colab-badge.svg\" alt=\"Open In Colab\"/></a>"
      ]
    },
    {
      "cell_type": "markdown",
      "source": [
        "# Tribonocci Problem\n",
        "\n",
        "Sourced from FiveThirtyEight's weekly puzzle post:\n",
        "\n",
        "Riddler Express\n",
        "From Dean Ballard comes a puzzle to help us ring in the new year, 2023:\n",
        "\n",
        "The Fibonacci sequence begins with the numbers 1 and 1,2 with each new term in the sequence equal to the sum of the preceding two. The first few numbers of the Fibonacci sequence are 1, 1, 2, 3, 5, 8, 13, 21, 34, 55 and so on.\n",
        "\n",
        "One can also make variations of the Fibonacci sequence by starting with a different pair of numbers. For example, the sequence that starts with 1 and 3 is 1, 3, 4, 7, 11, 18, 29, 47, 76 and so on. Generalizing further, a “tribonacci” sequence starts with three whole numbers, with each new term equal to the sum of the preceding three.\n",
        "\n",
        "Advertisement\n",
        "Many tribonacci sequences include the number 2023. For example, if you start with 23, 1000 and 1000, then the very next term will be 2023. Your challenge is to find starting whole numbers a, b and c so that 2023 is somewhere in their tribonacci sequence, a ≤ b ≤ c, and the sum a + b + c is as small as possible.\n",
        "\n",
        "Link to original: https://fivethirtyeight.com/features/can-you-make-it-to-2023/"
      ],
      "metadata": {
        "id": "DbCw8K8Fse8g"
      }
    },
    {
      "cell_type": "code",
      "execution_count": 1,
      "metadata": {
        "colab": {
          "base_uri": "https://localhost:8080/"
        },
        "id": "PNPNGTgvsThC",
        "outputId": "cd7143a7-21b6-4070-a1a9-99dd41b85e97"
      },
      "outputs": [
        {
          "output_type": "stream",
          "name": "stdout",
          "text": [
            "6\n"
          ]
        }
      ],
      "source": [
        "target = 20\n",
        "\n",
        "a = 1\n",
        "b = 2\n",
        "c = 3\n",
        "trib = [a, b, c]\n",
        "d = trib[-1] + trib[-2] + trib[-3]\n",
        "\n"
      ]
    },
    {
      "cell_type": "markdown",
      "source": [
        "# Approach\n",
        "\n",
        "So I thought about doing something more sophisticated by, e.g., having the different numbers increment on a sophisticated basis.  But screw it, let's just do an inefficient for loop."
      ],
      "metadata": {
        "id": "WvsR_E30s9tK"
      }
    },
    {
      "cell_type": "code",
      "source": [
        "target = 2023\n",
        "smallest_sum = 10000\n",
        "smallest_set = []\n",
        "ctr = 0\n",
        "ctr_print = 10000\n",
        "for a in range(1,target+1):\n",
        "  for b in range(a+1, target+1-a):\n",
        "    for c in range(b+1, target+1-a-b):\n",
        "      trib = [a, b, c]\n",
        "      if a + b + c > smallest_sum:\n",
        "        break\n",
        "      while trib[-1] < target:\n",
        "        d = trib[-1] + trib[-2] + trib[-3]\n",
        "        trib.append(d)\n",
        "        ctr = ctr + 1\n",
        "#        if ctr % ctr_print == 0:\n",
        "#          print(a, b, c)\n",
        "      if trib[-1] == target:\n",
        "        print(a, b, c, trib)\n",
        "        trib_sum = a + b + c\n",
        "        if trib_sum < smallest_sum:\n",
        "          smallest_sum = trib_sum\n",
        "          smallest_set = [a, b, c]\n",
        "\n",
        "print(smallest_set, smallest_sum)"
      ],
      "metadata": {
        "colab": {
          "base_uri": "https://localhost:8080/"
        },
        "id": "0SclCmFytErF",
        "outputId": "34db61f0-c0cb-4210-f3a1-b25a14f417e9"
      },
      "execution_count": 25,
      "outputs": [
        {
          "output_type": "stream",
          "name": "stdout",
          "text": [
            "1 2 1009 [1, 2, 1009, 1012, 2023]\n",
            "1 3 503 [1, 3, 503, 507, 1013, 2023]\n",
            "1 4 285 [1, 4, 285, 290, 579, 1154, 2023]\n",
            "1 5 277\n",
            "1 6 8 [1, 6, 8, 15, 29, 52, 96, 177, 325, 598, 1100, 2023]\n",
            "[1, 6, 8] 15\n"
          ]
        }
      ]
    },
    {
      "cell_type": "markdown",
      "source": [
        "# Next Steps\n",
        "\n",
        "It's fascinating that the tribonocci series is so dang small to get to 2023.  But I guess it makes sense since these series grow so quickly.\n",
        "\n",
        "I wonder what this looks like for all of the years in the 2000s."
      ],
      "metadata": {
        "id": "LSi7Z_OXy1dF"
      }
    },
    {
      "cell_type": "code",
      "source": [
        "x = []\n",
        "y = []\n",
        "for target in range (2000, 2100):\n",
        "  smallest_sum = 10000\n",
        "  smallest_set = []\n",
        "  ctr = 0\n",
        "  ctr_print = 10000\n",
        "  for a in range(1,target+1):\n",
        "    for b in range(a+1, target+1-a):\n",
        "      for c in range(b+1, target+1-a-b):\n",
        "        trib = [a, b, c]\n",
        "        if a + b + c > smallest_sum:\n",
        "          break\n",
        "        while trib[-1] < target:\n",
        "          d = trib[-1] + trib[-2] + trib[-3]\n",
        "          trib.append(d)\n",
        "          ctr = ctr + 1\n",
        "#          if ctr % ctr_print == 0:\n",
        "#            print(a, b, c)\n",
        "        if trib[-1] == target:\n",
        "#          print(a, b, c, trib)\n",
        "          trib_sum = a + b + c\n",
        "          if trib_sum < smallest_sum:\n",
        "            smallest_sum = trib_sum\n",
        "            smallest_set = [a, b, c]\n",
        "\n",
        "  print(target, smallest_set, smallest_sum)\n",
        "  x.append(target)\n",
        "  y.append(smallest_sum)"
      ],
      "metadata": {
        "colab": {
          "base_uri": "https://localhost:8080/"
        },
        "id": "JZrAQRffzGat",
        "outputId": "eca90749-7037-40f8-b47f-86f181d775b9"
      },
      "execution_count": 30,
      "outputs": [
        {
          "output_type": "stream",
          "name": "stdout",
          "text": [
            "2000 [2, 4, 41] 47\n",
            "2001 [3, 12, 13] 28\n",
            "2002 [2, 10, 36] 48\n",
            "2003 [2, 4, 9] 15\n",
            "2004 [1, 5, 20] 26\n",
            "2005 [5, 6, 17] 28\n",
            "2006 [1, 6, 40] 47\n",
            "2007 [1, 11, 15] 27\n",
            "2008 [1, 12, 35] 48\n",
            "2009 [2, 8, 17] 27\n",
            "2010 [6, 9, 14] 29\n",
            "2011 [3, 5, 19] 27\n",
            "2012 [3, 12, 34] 49\n",
            "2013 [1, 5, 41] 47\n",
            "2014 [3, 11, 14] 28\n",
            "2015 [1, 11, 36] 48\n",
            "2016 [4, 8, 16] 28\n",
            "2017 [1, 4, 21] 26\n",
            "2018 [2, 14, 33] 49\n",
            "2019 [3, 11, 35] 49\n",
            "2020 [1, 10, 16] 27\n",
            "2021 [5, 11, 13] 29\n",
            "2022 [2, 7, 18] 27\n",
            "2023 [1, 6, 8] 15\n",
            "2024 [3, 4, 20] 27\n",
            "2025 [2, 13, 34] 49\n",
            "2026 [3, 10, 36] 49\n",
            "2027 [2, 3, 10] 15\n",
            "2028 [7, 11, 12] 30\n",
            "2029 [4, 7, 17] 28\n",
            "2030 [1, 3, 22] 26\n",
            "2031 [1, 15, 33] 49\n",
            "2032 [2, 12, 35] 49\n",
            "2033 [1, 9, 17] 27\n",
            "2034 [5, 10, 14] 29\n",
            "2035 [2, 6, 19] 27\n",
            "2036 [3, 6, 7] 16\n",
            "2037 [2, 5, 41] 48\n",
            "2038 [2, 12, 14] 28\n",
            "2039 [2, 11, 36] 49\n",
            "2040 [3, 9, 16] 28\n",
            "2041 [7, 10, 13] 30\n",
            "2042 [4, 6, 18] 28\n",
            "2043 [1, 2, 23] 26\n",
            "2044 [2, 4, 42] 48\n",
            "2045 [4, 12, 13] 29\n",
            "2046 [1, 8, 18] 27\n",
            "2047 [1, 5, 9] 15\n",
            "2048 [2, 5, 20] 27\n",
            "2049 [3, 13, 34] 50\n",
            "2050 [1, 6, 41] 48\n",
            "2051 [2, 11, 15] 28\n",
            "2052 [1, 12, 36] 49\n",
            "2053 [3, 8, 17] 28\n",
            "2054 [7, 9, 14] 30\n",
            "2055 [4, 5, 19] 28\n",
            "2056 [3, 12, 35] 50\n",
            "2057 [1, 5, 42] 48\n",
            "2058 [4, 11, 14] 29\n",
            "2059 [1, 7, 19] 27\n",
            "2060 [3, 5, 8] 16\n",
            "2061 [2, 4, 21] 27\n",
            "2062 [1, 13, 14] 28\n",
            "2063 [3, 11, 36] 50\n",
            "2064 [2, 10, 16] 28\n",
            "2065 [6, 11, 13] 30\n",
            "2066 [3, 7, 18] 28\n",
            "2067 [7, 8, 15] 30\n",
            "2068 [3, 4, 42] 49\n",
            "2069 [2, 13, 35] 50\n",
            "2070 [3, 10, 37] 50\n",
            "2071 [1, 4, 10] 15\n",
            "2072 [1, 6, 20] 27\n",
            "2073 [5, 7, 17] 29\n",
            "2074 [2, 3, 22] 27\n",
            "2075 [1, 12, 15] 28\n",
            "2076 [2, 12, 36] 50\n",
            "2077 [2, 9, 17] 28\n",
            "2078 [6, 10, 14] 30\n",
            "2079 [3, 6, 19] 28\n",
            "2080 [1, 8, 40] 49\n",
            "2081 [2, 5, 42] 49\n",
            "2082 [3, 12, 14] 29\n",
            "2083 [2, 11, 37] 50\n",
            "2084 [2, 3, 4] 9\n",
            "2085 [1, 5, 21] 27\n",
            "2086 [5, 6, 18] 29\n",
            "2087 [1, 7, 41] 49\n",
            "2088 [1, 11, 16] 28\n",
            "2089 [5, 12, 13] 30\n",
            "2090 [2, 8, 18] 28\n",
            "2091 [6, 9, 15] 30\n",
            "2092 [3, 5, 20] 28\n",
            "2093 [3, 13, 35] 51\n",
            "2094 [1, 6, 42] 49\n",
            "2095 [1, 3, 11] 15\n",
            "2096 [1, 12, 37] 50\n",
            "2097 [4, 8, 17] 29\n",
            "2098 [1, 4, 22] 27\n",
            "2099 [2, 15, 34] 51\n"
          ]
        }
      ]
    },
    {
      "cell_type": "code",
      "source": [
        "print(x)\n",
        "print(y)"
      ],
      "metadata": {
        "colab": {
          "base_uri": "https://localhost:8080/"
        },
        "id": "xav7cqzP0I12",
        "outputId": "44070d96-f854-45b1-d9f4-07b8343c0898"
      },
      "execution_count": 31,
      "outputs": [
        {
          "output_type": "stream",
          "name": "stdout",
          "text": [
            "[2000, 2001, 2002, 2003, 2004, 2005, 2006, 2007, 2008, 2009, 2010, 2011, 2012, 2013, 2014, 2015, 2016, 2017, 2018, 2019, 2020, 2021, 2022, 2023, 2024, 2025, 2026, 2027, 2028, 2029, 2030, 2031, 2032, 2033, 2034, 2035, 2036, 2037, 2038, 2039, 2040, 2041, 2042, 2043, 2044, 2045, 2046, 2047, 2048, 2049, 2050, 2051, 2052, 2053, 2054, 2055, 2056, 2057, 2058, 2059, 2060, 2061, 2062, 2063, 2064, 2065, 2066, 2067, 2068, 2069, 2070, 2071, 2072, 2073, 2074, 2075, 2076, 2077, 2078, 2079, 2080, 2081, 2082, 2083, 2084, 2085, 2086, 2087, 2088, 2089, 2090, 2091, 2092, 2093, 2094, 2095, 2096, 2097, 2098, 2099]\n",
            "[47, 28, 48, 15, 26, 28, 47, 27, 48, 27, 29, 27, 49, 47, 28, 48, 28, 26, 49, 49, 27, 29, 27, 15, 27, 49, 49, 15, 30, 28, 26, 49, 49, 27, 29, 27, 16, 48, 28, 49, 28, 30, 28, 26, 48, 29, 27, 15, 27, 50, 48, 28, 49, 28, 30, 28, 50, 48, 29, 27, 16, 27, 28, 50, 28, 30, 28, 30, 49, 50, 50, 15, 27, 29, 27, 28, 50, 28, 30, 28, 49, 49, 29, 50, 9, 27, 29, 49, 28, 30, 28, 30, 28, 51, 49, 15, 50, 29, 27, 51]\n"
          ]
        }
      ]
    },
    {
      "cell_type": "code",
      "source": [
        "from matplotlib import pyplot as plt\n",
        " \n",
        "\n",
        "colors = []\n",
        "for year in x:\n",
        "  if year == 2023:\n",
        "    print('Red!')\n",
        "    colors.append('r')\n",
        "  else:\n",
        "    colors.append('b')\n",
        "\n",
        "# Figure Size\n",
        "fig = plt.figure(figsize =(10, 7))\n",
        " \n",
        "# Horizontal Bar Plot\n",
        "plt.bar(x, y, color = colors)\n",
        "plt.ylabel('Tribonocci Sum')\n",
        "plt.xlabel('Year')\n",
        "plt.title('Trib Sum per Year (2023 = Red)')\n",
        " \n",
        "# Show Plot\n",
        "plt.show()"
      ],
      "metadata": {
        "colab": {
          "base_uri": "https://localhost:8080/",
          "height": 476
        },
        "id": "iYPd1WUm0YZw",
        "outputId": "f6e4760b-2d4a-4835-e4ff-2d2572be9a78"
      },
      "execution_count": 35,
      "outputs": [
        {
          "output_type": "stream",
          "name": "stdout",
          "text": [
            "Red!\n"
          ]
        },
        {
          "output_type": "display_data",
          "data": {
            "text/plain": [
              "<Figure size 720x504 with 1 Axes>"
            ],
            "image/png": "[encoded data removed]"
          },
          "metadata": {
            "needs_background": "light"
          }
        }
      ]
    }
  ]
}