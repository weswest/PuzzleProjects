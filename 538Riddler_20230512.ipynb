{
  "nbformat": 4,
  "nbformat_minor": 0,
  "metadata": {
    "colab": {
      "provenance": [],
      "authorship_tag": "ABX9TyOiH50BEoYJoPeVJEm/cbfY",
      "include_colab_link": true
    },
    "kernelspec": {
      "name": "python3",
      "display_name": "Python 3"
    },
    "language_info": {
      "name": "python"
    }
  },
  "cells": [
    {
      "cell_type": "markdown",
      "metadata": {
        "id": "view-in-github",
        "colab_type": "text"
      },
      "source": [
        "<a href=\"https://colab.research.google.com/github/weswest/PuzzleProjects/blob/main/538Riddler_20230512.ipynb\" target=\"_parent\"><img src=\"https://colab.research.google.com/assets/colab-badge.svg\" alt=\"Open In Colab\"/></a>"
      ]
    },
    {
      "cell_type": "code",
      "execution_count": 74,
      "metadata": {
        "id": "jk0PhL1qB1e9"
      },
      "outputs": [],
      "source": [
        "from scipy.stats import norm\n",
        "import numpy as np\n",
        "\n",
        "def calculate_sum(n, x, verbose = False):\n",
        "    N = 8000000000  # total population\n",
        "    p = 1 - x  # probability of a person having a number greater than x\n",
        "    mean = N * p\n",
        "    std_dev = np.sqrt(N * p * (1 - p))\n",
        "    \n",
        "    total = 0\n",
        "    for i in range(0, n+1):  # Start from 1 to avoid division by zero\n",
        "        # Use normal approximation to binomial distribution\n",
        "        P_n = norm.pdf(i, loc=mean, scale=std_dev)\n",
        "        total += P_n * 1 / i if i != 0 else -P_n\n",
        "        if verbose == True:\n",
        "          if i == 0:\n",
        "            frac = 0\n",
        "          else:\n",
        "            frac = 1/i\n",
        "          print(i, P_n, frac, total)\n",
        "    return total"
      ]
    },
    {
      "cell_type": "code",
      "source": [],
      "metadata": {
        "colab": {
          "base_uri": "https://localhost:8080/"
        },
        "id": "xMYrbFO8Evoy",
        "outputId": "46b7db67-a343-4ee2-b9f7-8be28e33ec32"
      },
      "execution_count": 20,
      "outputs": [
        {
          "output_type": "stream",
          "name": "stdout",
          "text": [
            "8000000000.8\n"
          ]
        }
      ]
    },
    {
      "cell_type": "code",
      "source": [
        "print(calculate_sum(20, .999999999))"
      ],
      "metadata": {
        "colab": {
          "base_uri": "https://localhost:8080/"
        },
        "id": "Ydclx65mGKWQ",
        "outputId": "09d43768-b4e5-4a57-bdf8-e1f484c81710"
      },
      "execution_count": 54,
      "outputs": [
        {
          "output_type": "stream",
          "name": "stdout",
          "text": [
            "0.1681216427751263\n"
          ]
        }
      ]
    },
    {
      "cell_type": "code",
      "source": [
        "print(calculate_sum(20, .9999999999))"
      ],
      "metadata": {
        "colab": {
          "base_uri": "https://localhost:8080/"
        },
        "id": "x67Q6QM-FHzH",
        "outputId": "d0108346-84e9-49a7-ed4a-d03bfd9a3c6c"
      },
      "execution_count": 31,
      "outputs": [
        {
          "output_type": "stream",
          "name": "stdout",
          "text": [
            "0.5330959953334625\n"
          ]
        }
      ]
    },
    {
      "cell_type": "code",
      "source": [
        "print(calculate_sum(20, .99999999988))"
      ],
      "metadata": {
        "colab": {
          "base_uri": "https://localhost:8080/"
        },
        "id": "P6Zt0PZfC_5f",
        "outputId": "5a38dfd0-6293-4b8e-8de0-50a322cf39ac"
      },
      "execution_count": 69,
      "outputs": [
        {
          "output_type": "stream",
          "name": "stdout",
          "text": [
            "0.28716122150592943\n"
          ]
        }
      ]
    },
    {
      "cell_type": "code",
      "source": [
        "print(calculate_sum(20, .999999999878))\n"
      ],
      "metadata": {
        "colab": {
          "base_uri": "https://localhost:8080/"
        },
        "id": "YOWMcf2xFOWq",
        "outputId": "b37219ec-fd49-4385-f959-b2c8225c287e"
      },
      "execution_count": 45,
      "outputs": [
        {
          "output_type": "stream",
          "name": "stdout",
          "text": [
            "0.5391507870498886\n"
          ]
        }
      ]
    },
    {
      "cell_type": "code",
      "source": [
        "print(calculate_sum(20, .99999999987805))"
      ],
      "metadata": {
        "colab": {
          "base_uri": "https://localhost:8080/"
        },
        "id": "Z1UOuGaeFU6t",
        "outputId": "99cf9643-d24a-47ff-989f-b69f86570676"
      },
      "execution_count": 52,
      "outputs": [
        {
          "output_type": "stream",
          "name": "stdout",
          "text": [
            "0.5391507910985125\n"
          ]
        }
      ]
    },
    {
      "cell_type": "code",
      "source": [
        "def maximize_probability(initial_x, initial_step_size, num_iterations):\n",
        "    current_x = initial_x\n",
        "    current_probability = calculate_sum(200, current_x)\n",
        "    step_size = initial_step_size\n",
        "\n",
        "    for _ in range(num_iterations):\n",
        "        # Test increasing the value of x\n",
        "        next_x = current_x + step_size\n",
        "        next_probability = calculate_sum(200, next_x)\n",
        "\n",
        "        if next_probability > current_probability:\n",
        "            current_x = next_x\n",
        "            current_probability = next_probability\n",
        "        else:\n",
        "            # Test decreasing the value of x\n",
        "            next_x = current_x - step_size\n",
        "            next_probability = calculate_sum(200, next_x)\n",
        "\n",
        "            if next_probability > current_probability:\n",
        "                current_x = next_x\n",
        "                current_probability = next_probability\n",
        "            else:\n",
        "                # Neither increasing nor decreasing improves the probability, adjust step size\n",
        "                step_size /= 10  # Reduce step size by a factor of 10\n",
        "\n",
        "    return current_x, current_probability"
      ],
      "metadata": {
        "id": "L4Dh9PhdICDw"
      },
      "execution_count": 70,
      "outputs": []
    },
    {
      "cell_type": "code",
      "source": [
        "initial_x = 0.9999999999\n",
        "step_size = 0.00000000001\n",
        "num_iterations = 100\n",
        "\n",
        "result_x, result_probability = maximize_probability(initial_x, step_size, num_iterations)\n",
        "print(\"Maximized probability:\", result_probability)\n",
        "print(\"Optimal x value:\", result_x)"
      ],
      "metadata": {
        "colab": {
          "base_uri": "https://localhost:8080/"
        },
        "id": "5luEesYkIXWQ",
        "outputId": "5c67e6cc-ebaa-4bce-a299-251a14f0ae27"
      },
      "execution_count": 77,
      "outputs": [
        {
          "output_type": "stream",
          "name": "stdout",
          "text": [
            "Maximized probability: 0.3647412191986142\n",
            "Optimal x value: 0.999999999773622\n"
          ]
        }
      ]
    },
    {
      "cell_type": "code",
      "source": [
        "print(8000000000 * 0.999999999773622)"
      ],
      "metadata": {
        "colab": {
          "base_uri": "https://localhost:8080/"
        },
        "id": "tpIPCRPqIx_v",
        "outputId": "4710a81a-392b-4b2f-97a5-897ba5a04e62"
      },
      "execution_count": 72,
      "outputs": [
        {
          "output_type": "stream",
          "name": "stdout",
          "text": [
            "7999999998.188974\n"
          ]
        }
      ]
    },
    {
      "cell_type": "code",
      "source": [
        "print(1 - 1/8000000000)"
      ],
      "metadata": {
        "colab": {
          "base_uri": "https://localhost:8080/"
        },
        "id": "uA9lxZjcI6hk",
        "outputId": "8f32ab55-2f56-4a66-84f8-d61276dc27b8"
      },
      "execution_count": 61,
      "outputs": [
        {
          "output_type": "stream",
          "name": "stdout",
          "text": [
            "0.999999999875\n"
          ]
        }
      ]
    },
    {
      "cell_type": "code",
      "source": [
        "calculate_sum(20, 0.9999999997736218, verbose = True)"
      ],
      "metadata": {
        "colab": {
          "base_uri": "https://localhost:8080/"
        },
        "id": "tKfNM-9BJR-B",
        "outputId": "1b24d6ff-55e5-41b0-b7a7-ce30e87f5f3f"
      },
      "execution_count": 75,
      "outputs": [
        {
          "output_type": "stream",
          "name": "stdout",
          "text": [
            "0 0.11986390583772513 0 -0.11986390583772513\n",
            "1 0.24721796247697475 1.0 0.12735405663924962\n",
            "2 0.2935390273897746 0.5 0.2741235703341369\n",
            "3 0.20065311667675798 0.3333333333333333 0.3410079425597229\n",
            "4 0.07896237449371876 0.25 0.36074853618315256\n",
            "5 0.01788910940676973 0.2 0.36432635806450653\n",
            "6 0.002333197333684053 0.16666666666666666 0.3647152242867872\n",
            "7 0.00017518965345940954 0.14285714285714285 0.36474025138013855\n",
            "8 7.5728554379104325e-06 0.125 0.3647411979870683\n",
            "9 1.884538915905246e-07 0.1111111111111111 0.36474121892638955\n",
            "10 2.6998820067234057e-09 0.1 0.36474121919637775\n",
            "11 2.226787064363486e-11 0.09090909090909091 0.3647412191984021\n",
            "12 1.0573209215011703e-13 0.08333333333333333 0.3647412191984109\n",
            "13 2.8902086241299895e-16 0.07692307692307693 0.3647412191984109\n",
            "14 4.548265311091697e-19 0.07142857142857142 0.3647412191984109\n",
            "15 4.1205635694482147e-22 0.06666666666666667 0.3647412191984109\n",
            "16 2.1491250074953143e-25 0.0625 0.3647412191984109\n",
            "17 6.452989636571397e-29 0.058823529411764705 0.3647412191984109\n",
            "18 1.1154612510938812e-32 0.05555555555555555 0.3647412191984109\n",
            "19 1.1100492298763644e-36 0.05263157894736842 0.3647412191984109\n",
            "20 6.35951831127256e-41 0.05 0.3647412191984109\n"
          ]
        },
        {
          "output_type": "execute_result",
          "data": {
            "text/plain": [
              "0.3647412191984109"
            ]
          },
          "metadata": {},
          "execution_count": 75
        }
      ]
    }
  ]
}