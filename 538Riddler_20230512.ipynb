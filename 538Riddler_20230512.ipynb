{
  "nbformat": 4,
  "nbformat_minor": 0,
  "metadata": {
    "colab": {
      "provenance": [],
      "authorship_tag": "ABX9TyNDeSCzIxNRudPZRaGBT8i8",
      "include_colab_link": true
    },
    "kernelspec": {
      "name": "python3",
      "display_name": "Python 3"
    },
    "language_info": {
      "name": "python"
    }
  },
  "cells": [
    {
      "cell_type": "markdown",
      "metadata": {
        "id": "view-in-github",
        "colab_type": "text"
      },
      "source": [
        "<a href=\"https://colab.research.google.com/github/weswest/PuzzleProjects/blob/main/538Riddler_20230512.ipynb\" target=\"_parent\"><img src=\"https://colab.research.google.com/assets/colab-badge.svg\" alt=\"Open In Colab\"/></a>"
      ]
    },
    {
      "cell_type": "code",
      "execution_count": 78,
      "metadata": {
        "id": "jk0PhL1qB1e9"
      },
      "outputs": [],
      "source": [
        "from scipy.stats import norm\n",
        "import numpy as np\n",
        "\n",
        "def calculate_sum(n, x, verbose = False):\n",
        "    N = 8000000000  # total population\n",
        "    p = 1 - x  # probability of a person having a number greater than x\n",
        "    mean = N * p\n",
        "    std_dev = np.sqrt(N * p * (1 - p))\n",
        "    \n",
        "    total = 0\n",
        "    for i in range(0, n+1):  # Start from 1 to avoid division by zero\n",
        "        # Use normal approximation to binomial distribution\n",
        "        P_n = norm.pdf(i, loc=mean, scale=std_dev)\n",
        "        total += P_n * 1 / i if i != 0 else -P_n\n",
        "        if verbose == True:\n",
        "          if i == 0:\n",
        "            frac = 0\n",
        "          else:\n",
        "            frac = 1/i\n",
        "          print(i, P_n, frac, total)\n",
        "    return total"
      ]
    },
    {
      "cell_type": "code",
      "source": [
        "print(calculate_sum(20, .999999999))"
      ],
      "metadata": {
        "colab": {
          "base_uri": "https://localhost:8080/"
        },
        "id": "Ydclx65mGKWQ",
        "outputId": "9fcfd297-9834-49a4-b87d-d3f2a3a5926f"
      },
      "execution_count": 79,
      "outputs": [
        {
          "output_type": "stream",
          "name": "stdout",
          "text": [
            "0.146561815355821\n"
          ]
        }
      ]
    },
    {
      "cell_type": "code",
      "source": [
        "print(calculate_sum(20, .9999999999))"
      ],
      "metadata": {
        "colab": {
          "base_uri": "https://localhost:8080/"
        },
        "id": "x67Q6QM-FHzH",
        "outputId": "bb738810-f60b-4f11-d755-fbdf0d4ae435"
      },
      "execution_count": 80,
      "outputs": [
        {
          "output_type": "stream",
          "name": "stdout",
          "text": [
            "0.23411247767647445\n"
          ]
        }
      ]
    },
    {
      "cell_type": "code",
      "source": [
        "print(calculate_sum(20, .99999999988))"
      ],
      "metadata": {
        "colab": {
          "base_uri": "https://localhost:8080/"
        },
        "id": "P6Zt0PZfC_5f",
        "outputId": "0f266fd5-1584-4a01-c75a-cc5caa6619eb"
      },
      "execution_count": 81,
      "outputs": [
        {
          "output_type": "stream",
          "name": "stdout",
          "text": [
            "0.28716122150592943\n"
          ]
        }
      ]
    },
    {
      "cell_type": "code",
      "source": [
        "print(calculate_sum(20, .999999999878))\n"
      ],
      "metadata": {
        "colab": {
          "base_uri": "https://localhost:8080/"
        },
        "id": "YOWMcf2xFOWq",
        "outputId": "db7ef599-6d52-4218-f9e7-21753f9a2dd0"
      },
      "execution_count": 82,
      "outputs": [
        {
          "output_type": "stream",
          "name": "stdout",
          "text": [
            "0.29126617349871786\n"
          ]
        }
      ]
    },
    {
      "cell_type": "code",
      "source": [
        "print(calculate_sum(20, .99999999987805))"
      ],
      "metadata": {
        "colab": {
          "base_uri": "https://localhost:8080/"
        },
        "id": "Z1UOuGaeFU6t",
        "outputId": "45c11ffd-03ba-4bea-a97e-f4223f94b4f0"
      },
      "execution_count": 83,
      "outputs": [
        {
          "output_type": "stream",
          "name": "stdout",
          "text": [
            "0.2911658541177378\n"
          ]
        }
      ]
    },
    {
      "cell_type": "code",
      "source": [
        "def maximize_probability(initial_x, initial_step_size, num_iterations):\n",
        "    current_x = initial_x\n",
        "    current_probability = calculate_sum(200, current_x)\n",
        "    step_size = initial_step_size\n",
        "\n",
        "    for _ in range(num_iterations):\n",
        "        # Test increasing the value of x\n",
        "        next_x = current_x + step_size\n",
        "        next_probability = calculate_sum(200, next_x)\n",
        "\n",
        "        if next_probability > current_probability:\n",
        "            current_x = next_x\n",
        "            current_probability = next_probability\n",
        "        else:\n",
        "            # Test decreasing the value of x\n",
        "            next_x = current_x - step_size\n",
        "            next_probability = calculate_sum(200, next_x)\n",
        "\n",
        "            if next_probability > current_probability:\n",
        "                current_x = next_x\n",
        "                current_probability = next_probability\n",
        "            else:\n",
        "                # Neither increasing nor decreasing improves the probability, adjust step size\n",
        "                step_size /= 10  # Reduce step size by a factor of 10\n",
        "\n",
        "    return current_x, current_probability"
      ],
      "metadata": {
        "id": "L4Dh9PhdICDw"
      },
      "execution_count": 84,
      "outputs": []
    },
    {
      "cell_type": "code",
      "source": [
        "initial_x = 0.9999999999\n",
        "step_size = 0.00000000001\n",
        "num_iterations = 100\n",
        "\n",
        "result_x, result_probability = maximize_probability(initial_x, step_size, num_iterations)\n",
        "print(\"Maximized probability:\", result_probability)\n",
        "print(\"Optimal x value:\", result_x)"
      ],
      "metadata": {
        "colab": {
          "base_uri": "https://localhost:8080/"
        },
        "id": "5luEesYkIXWQ",
        "outputId": "ebf4a44b-fd83-4d8b-c564-3ba381c0ea9d"
      },
      "execution_count": 85,
      "outputs": [
        {
          "output_type": "stream",
          "name": "stdout",
          "text": [
            "Maximized probability: 0.3647412191986142\n",
            "Optimal x value: 0.999999999773622\n"
          ]
        }
      ]
    },
    {
      "cell_type": "code",
      "source": [
        "print(8000000000 * 0.999999999773622)"
      ],
      "metadata": {
        "colab": {
          "base_uri": "https://localhost:8080/"
        },
        "id": "tpIPCRPqIx_v",
        "outputId": "9a20d10e-52e4-4113-8b98-a86dba82b7dc"
      },
      "execution_count": 86,
      "outputs": [
        {
          "output_type": "stream",
          "name": "stdout",
          "text": [
            "7999999998.188975\n"
          ]
        }
      ]
    },
    {
      "cell_type": "code",
      "source": [
        "print(1 - 1/8000000000)"
      ],
      "metadata": {
        "colab": {
          "base_uri": "https://localhost:8080/"
        },
        "id": "uA9lxZjcI6hk",
        "outputId": "fa1cd22e-8f69-4806-a7a6-d5654b38b6db"
      },
      "execution_count": 87,
      "outputs": [
        {
          "output_type": "stream",
          "name": "stdout",
          "text": [
            "0.999999999875\n"
          ]
        }
      ]
    },
    {
      "cell_type": "code",
      "source": [
        "calculate_sum(20, 0.999999999773622, verbose = True)"
      ],
      "metadata": {
        "colab": {
          "base_uri": "https://localhost:8080/"
        },
        "id": "tKfNM-9BJR-B",
        "outputId": "d62dd171-c05d-4283-dbc9-b15795eda5c1"
      },
      "execution_count": 89,
      "outputs": [
        {
          "output_type": "stream",
          "name": "stdout",
          "text": [
            "0 0.11986407108305522 0 -0.11986407108305522\n",
            "1 0.24721823634650567 1.0 0.12735416526345045\n",
            "2 0.2935391141013483 0.5 0.27412372231412463\n",
            "3 0.20065290426393612 0.3333333333333333 0.34100802373543665\n",
            "4 0.07896214122190762 0.25 0.3607485590409136\n",
            "5 0.01788901295908096 0.2 0.36432636163272974\n",
            "6 0.0023331778043168146 0.16666666666666666 0.3647152246001159\n",
            "7 0.00017518757034892948 0.14285714285714285 0.36474025139588007\n",
            "8 7.572734631403155e-06 0.125 0.364741197987709\n",
            "9 1.8845001771088673e-07 0.1111111111111111 0.36474121892659983\n",
            "10 2.6998126164464483e-09 0.1 0.3647412191965811\n",
            "11 2.2267171701990174e-11 0.09090909090909091 0.36474121919860536\n",
            "12 1.0572811491902402e-13 0.08333333333333333 0.3647412191986142\n",
            "13 2.89008033966699e-16 0.07692307692307693 0.3647412191986142\n",
            "14 4.54803017861866e-19 0.07142857142857142 0.3647412191986142\n",
            "15 4.1203181899427753e-22 0.06666666666666667 0.3647412191986142\n",
            "16 2.1489789866967995e-25 0.0625 0.3647412191986142\n",
            "17 6.452493530026825e-29 0.058823529411764705 0.3647412191986142\n",
            "18 1.1153649227692138e-32 0.05555555555555555 0.3647412191986142\n",
            "19 1.1099422476197365e-36 0.05263157894736842 0.3647412191986142\n",
            "20 6.358838247743269e-41 0.05 0.3647412191986142\n"
          ]
        },
        {
          "output_type": "execute_result",
          "data": {
            "text/plain": [
              "0.3647412191986142"
            ]
          },
          "metadata": {},
          "execution_count": 89
        }
      ]
    }
  ]
}