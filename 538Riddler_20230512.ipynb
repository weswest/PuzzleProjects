{
  "nbformat": 4,
  "nbformat_minor": 0,
  "metadata": {
    "colab": {
      "provenance": [],
      "authorship_tag": "ABX9TyNplWza8COut6+5yQFkxgQm",
      "include_colab_link": true
    },
    "kernelspec": {
      "name": "python3",
      "display_name": "Python 3"
    },
    "language_info": {
      "name": "python"
    }
  },
  "cells": [
    {
      "cell_type": "markdown",
      "metadata": {
        "id": "view-in-github",
        "colab_type": "text"
      },
      "source": [
        "<a href=\"https://colab.research.google.com/github/weswest/PuzzleProjects/blob/main/538Riddler_20230512.ipynb\" target=\"_parent\"><img src=\"https://colab.research.google.com/assets/colab-badge.svg\" alt=\"Open In Colab\"/></a>"
      ]
    },
    {
      "cell_type": "code",
      "execution_count": 105,
      "metadata": {
        "id": "jk0PhL1qB1e9"
      },
      "outputs": [],
      "source": [
        "from scipy.stats import norm\n",
        "import numpy as np\n",
        "\n",
        "def calculate_sum(n, x, verbose = False):\n",
        "    N = 8000000000  # total population\n",
        "    p = 1 - x  # probability of a person having a number greater than x\n",
        "    mean = N * p\n",
        "    std_dev = np.sqrt(N * p * (1 - p))\n",
        "    \n",
        "    total = 0\n",
        "    for i in range(0, n+1):  # Start from 1 to avoid division by zero\n",
        "        # Use normal approximation to binomial distribution\n",
        "        P_n = norm.pdf(i, loc=mean, scale=std_dev)\n",
        "        total += P_n * 1 / i if i != 0 else 0\n",
        "        if verbose == True:\n",
        "          if i == 0:\n",
        "            frac = 0\n",
        "          else:\n",
        "            frac = 1/i\n",
        "          print(i, P_n, frac, total)\n",
        "    return total"
      ]
    },
    {
      "cell_type": "code",
      "source": [
        "print(calculate_sum(20, .999999999))"
      ],
      "metadata": {
        "colab": {
          "base_uri": "https://localhost:8080/"
        },
        "id": "Ydclx65mGKWQ",
        "outputId": "c8082bf1-685e-445f-b48c-8ae223b6a896"
      },
      "execution_count": 106,
      "outputs": [
        {
          "output_type": "stream",
          "name": "stdout",
          "text": [
            "0.14914518884482325\n"
          ]
        }
      ]
    },
    {
      "cell_type": "code",
      "source": [
        "print(calculate_sum(20, .9999999999))"
      ],
      "metadata": {
        "colab": {
          "base_uri": "https://localhost:8080/"
        },
        "id": "x67Q6QM-FHzH",
        "outputId": "3ea0fdb6-3dfb-4ebe-8981-7e25de130130"
      },
      "execution_count": 107,
      "outputs": [
        {
          "output_type": "stream",
          "name": "stdout",
          "text": [
            "0.5330959953334625\n"
          ]
        }
      ]
    },
    {
      "cell_type": "code",
      "source": [
        "print(calculate_sum(20, .99999999988))"
      ],
      "metadata": {
        "colab": {
          "base_uri": "https://localhost:8080/"
        },
        "id": "P6Zt0PZfC_5f",
        "outputId": "7fb88145-c70a-4aba-9707-c6de87614e03"
      },
      "execution_count": 108,
      "outputs": [
        {
          "output_type": "stream",
          "name": "stdout",
          "text": [
            "0.539110467377328\n"
          ]
        }
      ]
    },
    {
      "cell_type": "code",
      "source": [
        "print(calculate_sum(20, .999999999878))\n"
      ],
      "metadata": {
        "colab": {
          "base_uri": "https://localhost:8080/"
        },
        "id": "YOWMcf2xFOWq",
        "outputId": "804bb70f-c936-43cd-f495-0c7d2696e1c6"
      },
      "execution_count": 109,
      "outputs": [
        {
          "output_type": "stream",
          "name": "stdout",
          "text": [
            "0.5391507870498886\n"
          ]
        }
      ]
    },
    {
      "cell_type": "code",
      "source": [
        "print(calculate_sum(20, .99999999987805))"
      ],
      "metadata": {
        "colab": {
          "base_uri": "https://localhost:8080/"
        },
        "id": "Z1UOuGaeFU6t",
        "outputId": "a675a9fa-6a32-4131-ecbc-dd25ec7e0511"
      },
      "execution_count": 110,
      "outputs": [
        {
          "output_type": "stream",
          "name": "stdout",
          "text": [
            "0.5391507910985125\n"
          ]
        }
      ]
    },
    {
      "cell_type": "code",
      "source": [
        "def maximize_probability(initial_x, initial_step_size, num_iterations):\n",
        "    current_x = initial_x\n",
        "    current_probability = calculate_sum(200, current_x)\n",
        "    step_size = initial_step_size\n",
        "\n",
        "    for _ in range(num_iterations):\n",
        "        # Test increasing the value of x\n",
        "        next_x = current_x + step_size\n",
        "        next_probability = calculate_sum(200, next_x)\n",
        "\n",
        "        if next_probability > current_probability:\n",
        "            current_x = next_x\n",
        "            current_probability = next_probability\n",
        "        else:\n",
        "            # Test decreasing the value of x\n",
        "            next_x = current_x - step_size\n",
        "            next_probability = calculate_sum(200, next_x)\n",
        "\n",
        "            if next_probability > current_probability:\n",
        "                current_x = next_x\n",
        "                current_probability = next_probability\n",
        "            else:\n",
        "                # Neither increasing nor decreasing improves the probability, adjust step size\n",
        "                step_size /= 10  # Reduce step size by a factor of 10\n",
        "\n",
        "    return current_x, current_probability"
      ],
      "metadata": {
        "id": "L4Dh9PhdICDw"
      },
      "execution_count": 111,
      "outputs": []
    },
    {
      "cell_type": "code",
      "source": [
        "initial_x = 0.9999999999\n",
        "step_size = 0.00000000001\n",
        "num_iterations = 100\n",
        "\n",
        "result_x, result_probability = maximize_probability(initial_x, step_size, num_iterations)\n",
        "print(\"Maximized probability:\", result_probability)\n",
        "print(\"Optimal x value:\", result_x)"
      ],
      "metadata": {
        "colab": {
          "base_uri": "https://localhost:8080/"
        },
        "id": "5luEesYkIXWQ",
        "outputId": "16c20612-d45f-4fae-caed-4a3ed0c228e7"
      },
      "execution_count": 112,
      "outputs": [
        {
          "output_type": "stream",
          "name": "stdout",
          "text": [
            "Maximized probability: 0.539150795601195\n",
            "Optimal x value: 0.999999999878029\n"
          ]
        }
      ]
    },
    {
      "cell_type": "code",
      "source": [
        "print(8000000000 * (1 - result_x))"
      ],
      "metadata": {
        "colab": {
          "base_uri": "https://localhost:8080/"
        },
        "id": "tpIPCRPqIx_v",
        "outputId": "7cd432e3-7608-4982-e940-86d90b96efd2"
      },
      "execution_count": 113,
      "outputs": [
        {
          "output_type": "stream",
          "name": "stdout",
          "text": [
            "0.9757679109156925\n"
          ]
        }
      ]
    },
    {
      "cell_type": "code",
      "source": [
        "print(1 - 1/8000000000)"
      ],
      "metadata": {
        "colab": {
          "base_uri": "https://localhost:8080/"
        },
        "id": "uA9lxZjcI6hk",
        "outputId": "65d113c1-fd93-4280-8e0d-908680d769b3"
      },
      "execution_count": 114,
      "outputs": [
        {
          "output_type": "stream",
          "name": "stdout",
          "text": [
            "0.999999999875\n"
          ]
        }
      ]
    },
    {
      "cell_type": "code",
      "source": [
        "calculate_sum(20, result_x, verbose = True)"
      ],
      "metadata": {
        "colab": {
          "base_uri": "https://localhost:8080/"
        },
        "id": "tKfNM-9BJR-B",
        "outputId": "07743f5b-d84b-437c-8004-db99627fe11b"
      },
      "execution_count": 115,
      "outputs": [
        {
          "output_type": "stream",
          "name": "stdout",
          "text": [
            "0 0.24794279366260197 0 0\n",
            "1 0.40374404134024067 1.0 0.40374404134024067\n",
            "2 0.23592885973521074 0.5 0.521708471207846\n",
            "3 0.04947391959102929 0.3333333333333333 0.5381997777381892\n",
            "4 0.0037229900567367583 0.25 0.5391305252523734\n",
            "5 0.00010053742113488311 0.2 0.5391506327366004\n",
            "6 9.742802817190148e-07 0.16666666666666666 0.5391507951166473\n",
            "7 3.3881325493477515e-09 0.14285714285714285 0.5391507956006663\n",
            "8 4.228216132097941e-12 0.125 0.5391507956011948\n",
            "9 1.8935390796689677e-15 0.1111111111111111 0.539150795601195\n",
            "10 3.0430681167915574e-19 0.1 0.539150795601195\n",
            "11 1.7549687283860442e-23 0.09090909090909091 0.539150795601195\n",
            "12 3.63201302997515e-28 0.08333333333333333 0.539150795601195\n",
            "13 2.6974022837125585e-33 0.07692307692307693 0.539150795601195\n",
            "14 7.188931593614847e-39 0.07142857142857142 0.539150795601195\n",
            "15 6.875484203539452e-45 0.06666666666666667 0.539150795601195\n",
            "16 2.3597311927505505e-51 0.0625 0.539150795601195\n",
            "17 2.9063109989272917e-58 0.058823529411764705 0.539150795601195\n",
            "18 1.2845231772527794e-65 0.05555555555555555 0.539150795601195\n",
            "19 2.037333430172828e-73 0.05263157894736842 0.539150795601195\n",
            "20 1.1595849908635094e-81 0.05 0.539150795601195\n"
          ]
        },
        {
          "output_type": "execute_result",
          "data": {
            "text/plain": [
              "0.539150795601195"
            ]
          },
          "metadata": {},
          "execution_count": 115
        }
      ]
    }
  ]
}